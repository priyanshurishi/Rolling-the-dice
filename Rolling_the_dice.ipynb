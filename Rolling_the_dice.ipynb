{
  "nbformat": 4,
  "nbformat_minor": 0,
  "metadata": {
    "colab": {
      "name": "Rolling the dice",
      "provenance": [],
      "authorship_tag": "ABX9TyMvMSaa/MfiGPeMsQ5BkZLR",
      "include_colab_link": true
    },
    "kernelspec": {
      "name": "python3",
      "display_name": "Python 3"
    }
  },
  "cells": [
    {
      "cell_type": "markdown",
      "metadata": {
        "id": "view-in-github",
        "colab_type": "text"
      },
      "source": [
        "<a href=\"https://colab.research.google.com/github/priyanshurishi/Rolling-the-dice/blob/main/Rolling_the_dice.ipynb\" target=\"_parent\"><img src=\"https://colab.research.google.com/assets/colab-badge.svg\" alt=\"Open In Colab\"/></a>"
      ]
    },
    {
      "cell_type": "code",
      "metadata": {
        "id": "DIaazQ0Jey_S"
      },
      "source": [
        "import random\n",
        "import sys\n",
        "\n",
        "# Variables\n",
        "d_number = 0\n",
        "dm_number = 0\n",
        "d_numberslot1 = \"N/A\"\n",
        "d_numberslot2 = \"N/A\"\n",
        "d_numberslot3 = \"N/A\"\n",
        "d_numberslot4 = \"N/A\"\n",
        "d_numberslot5 = \"N/A\"\n",
        "user = \"\" # User input\n",
        "helplist = \"\"\"--- Commands ---\n",
        "\\u2023 !help\n",
        "\\u2023 !roll\n",
        "\\u2023 !rollmultiple\n",
        "\\u2023 !logs\n",
        "\\u2023 !about\n",
        "\\u2023 !exit\\n\"\"\"\n",
        "running = True\n",
        "version = (\"v1.3.2.1\")\n",
        "n1=n2=n3=n4=n5=n6=0 #Sets multiple variables to 0 in one line\n",
        "\n",
        "# Functions\n",
        "def roll():\n",
        "    global d_number\n",
        "    global d_numberslot1\n",
        "    global d_numberslot2\n",
        "    global d_numberslot3\n",
        "    global d_numberslot4\n",
        "    global d_numberslot5\n",
        "    global d_numberslot6\n",
        "\n",
        "    print(\"Rolling the dice...\")\n",
        "    d_number = random.randint(1,6)\n",
        "    d_numberslot6 = str(d_numberslot5)\n",
        "    d_numberslot5 = str(d_numberslot4)\n",
        "    d_numberslot4 = str(d_numberslot3)\n",
        "    d_numberslot3 = str(d_numberslot2)\n",
        "    d_numberslot2 = str(d_numberslot1)\n",
        "    d_numberslot1 = str(d_number)\n",
        "    print(\"{}\".format(d_number))\n",
        "\n",
        "def menu():\n",
        "    user = input(\"> \")\n",
        "\n",
        "    if user == \"!roll\":\n",
        "        roll()\n",
        "        return menu_r()\n",
        "        \n",
        "    elif user == \"!exit\":\n",
        "      print(\"Thanks for playing.\")\n",
        "      return sys.exit(0)\n",
        "        \n",
        "    else:\n",
        "        print(\"Unknown command\")\n",
        "        return menu_r()\n",
        "\n",
        "                   \n",
        "def menu_r():\n",
        "    if running == True:\n",
        "        menu()\n",
        "\n",
        "\n",
        "# Main\n",
        "print(\" ---------- Dice Simulator ---------- \")\n",
        "print(\"Type !roll to roll the dice\\nType !exit to exit the game\")\n",
        "menu()"
      ],
      "execution_count": null,
      "outputs": []
    }
  ]
}